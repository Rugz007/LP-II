{
 "cells": [
  {
   "cell_type": "code",
   "execution_count": 73,
   "id": "3689e787",
   "metadata": {},
   "outputs": [],
   "source": [
    "import random\n",
    "from array import array"
   ]
  },
  {
   "cell_type": "code",
   "execution_count": 74,
   "id": "adedab8e",
   "metadata": {},
   "outputs": [],
   "source": [
    "board = [[0,0,0,0,0,0,0,0],[0,0,0,0,0,0,0,0],[0,0,0,0,0,0,0,0],[0,0,0,0,0,0,0,0],[0,0,0,0,0,0,0,0],[0,0,0,0,0,0,0,0],[0,0,0,0,0,0,0,0],[0,0,0,0,0,0,0,0]]\n",
    "neighbour = [[0,0,0,0,0,0,0,0],[0,0,0,0,0,0,0,0],[0,0,0,0,0,0,0,0],[0,0,0,0,0,0,0,0],[0,0,0,0,0,0,0,0],[0,0,0,0,0,0,0,0],[0,0,0,0,0,0,0,0],[0,0,0,0,0,0,0,0]]\n",
    "queens = [0,0,0,0,0,0,0,0]"
   ]
  },
  {
   "cell_type": "code",
   "execution_count": 75,
   "id": "02796a5e",
   "metadata": {},
   "outputs": [],
   "source": [
    "# def collision_count(column,row): #row, col\n",
    "def collision_count(row, column):\n",
    "    coll = 0\n",
    "    cr = row\n",
    "    cc = column\n",
    "    for j in range(8): # lef - rig\n",
    "        if j == column: # queen under consideration\n",
    "            continue\n",
    "        if board[row][j] == 1 :\n",
    "            coll += 1\n",
    "    \n",
    "    for j in range(8): # top - bot\n",
    "        if j == row: # queen under consideration\n",
    "            continue\n",
    "        if board[j][column] == 1 :\n",
    "            coll += 1\n",
    "    \n",
    "    while(cr < 7 and  cc < 7):\n",
    "        cc += 1\n",
    "        cr +=1\n",
    "        if board[cr][cc] == 1:\n",
    "            coll += 1\n",
    "    cr, cc = row, column\n",
    "    while(cc > 0 and cr > 0):\n",
    "        cr -= 1\n",
    "        cc -=1\n",
    "        if board[cr][cc] == 1:\n",
    "            coll += 1\n",
    "    cr, cc = row, column\n",
    "    while(cc > 0 and cr < 7):\n",
    "        cr += 1\n",
    "        cc -=1\n",
    "        if board[cr][cc] == 1:\n",
    "            coll += 1\n",
    "    cr, cc = row, column\n",
    "    while(cc < 7 and cr > 0):\n",
    "        cr -= 1\n",
    "        cc +=1\n",
    "        if board[cr][cc] == 1:\n",
    "            coll += 1\n",
    "            \n",
    "                     \n",
    "    return coll     "
   ]
  },
  {
   "cell_type": "code",
   "execution_count": 76,
   "id": "6b041660",
   "metadata": {},
   "outputs": [],
   "source": [
    "def totalcoll():\n",
    "    totcoll = 0\n",
    "    for i in range(8):\n",
    "        totcoll += collision_count(i,queens[i]) # for each row\n",
    "    return totcoll"
   ]
  },
  {
   "cell_type": "code",
   "execution_count": 77,
   "id": "83fabcd0",
   "metadata": {},
   "outputs": [
    {
     "name": "stdout",
     "output_type": "stream",
     "text": [
      "colli  4\n",
      "colli  2\n",
      "colli  4\n",
      "colli  0\n",
      "0 0 1 0 0 0 0 0 \n",
      "0 0 0 0 1 0 0 0 \n",
      "0 1 0 0 0 0 0 0 \n",
      "0 0 0 0 0 0 0 1 \n",
      "0 0 0 0 0 1 0 0 \n",
      "0 0 0 1 0 0 0 0 \n",
      "0 0 0 0 0 0 1 0 \n",
      "1 0 0 0 0 0 0 0 \n"
     ]
    }
   ],
   "source": [
    "while True:\n",
    "#     print(\"f\")\n",
    "    board = [[0,0,0,0,0,0,0,0],[0,0,0,0,0,0,0,0],[0,0,0,0,0,0,0,0],[0,0,0,0,0,0,0,0],[0,0,0,0,0,0,0,0],[0,0,0,0,0,0,0,0],[0,0,0,0,0,0,0,0],[0,0,0,0,0,0,0,0]]\n",
    "    for i in range(8):\n",
    "        queens[i] = random.randrange(0,8)\n",
    "        board[i][queens[i]] = 1\n",
    "    \n",
    "\n",
    "\n",
    "    totalcollision =  totalcoll()\n",
    "#     print(\"colli \", totalcollision)\n",
    "    while True:\n",
    "        for i in range(8):\n",
    "            oldqueen = queens[i]\n",
    "            for j in range(8):       \n",
    "                queens[i] = j\n",
    "                board[i][oldqueen] = 0\n",
    "                board[i][queens[i]] = 1\n",
    "                neighbour[i][j] = totalcoll()#generate n\n",
    "                board[i][queens[i]] = 0\n",
    "                board[i][oldqueen] = 1\n",
    "            queens[i] = oldqueen\n",
    "        min = neighbour[0][0]\n",
    "        minqueencol = 0\n",
    "        minqueenrow = 0\n",
    "        for i in range(8):\n",
    "            for j in range(8):\n",
    "                if(neighbour[i][j]<min):\n",
    "                    min = neighbour[i][j] # should store/generate this state(?)\n",
    "                    minqueenrow = i\n",
    "                    minqueencol = j\n",
    "\n",
    "        if min<totalcollision:\n",
    "            totalcollision = min\n",
    "            board[minqueenrow][queens[minqueenrow]] = 0 #\n",
    "            queens[minqueenrow] = minqueencol\n",
    "            board[minqueenrow][queens[minqueenrow]] = 1\n",
    "        else:\n",
    "            break\n",
    "    print(\"colli \", totalcollision)   \n",
    "    if totalcollision == 0:\n",
    "        break\n",
    "#     print(\"colli \", totalcollision)\n",
    "for i in range(8):\n",
    "    for j in range(8):\n",
    "        print(board[i][j], end=\" \")\n",
    "    print()\n"
   ]
  },
  {
   "cell_type": "markdown",
   "id": "6ddd8d0a",
   "metadata": {},
   "source": [
    "### randrange(0, 8) -> initialise queens, queens[i] for row i queen resides on which col\n",
    "### initial collisions\n",
    "### while -> neighbors total collision"
   ]
  },
  {
   "cell_type": "code",
   "execution_count": null,
   "id": "51c11cec",
   "metadata": {},
   "outputs": [],
   "source": []
  }
 ],
 "metadata": {
  "kernelspec": {
   "display_name": "Python 3",
   "language": "python",
   "name": "python3"
  },
  "language_info": {
   "codemirror_mode": {
    "name": "ipython",
    "version": 3
   },
   "file_extension": ".py",
   "mimetype": "text/x-python",
   "name": "python",
   "nbconvert_exporter": "python",
   "pygments_lexer": "ipython3",
   "version": "3.8.8"
  }
 },
 "nbformat": 4,
 "nbformat_minor": 5
}
